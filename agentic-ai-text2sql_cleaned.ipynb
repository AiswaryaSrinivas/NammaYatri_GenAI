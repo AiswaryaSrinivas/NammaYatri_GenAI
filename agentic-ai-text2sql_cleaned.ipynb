{
 "cells": [
  {
   "cell_type": "markdown",
   "metadata": {
    "vscode": {
     "languageId": "plaintext"
    }
   },
   "source": [
    "## Introduction\n",
    "\n",
    "The aim of this notebook is to be able to create agentic AI system that can pull data from a given URL based on the questions asked by the USER.\n",
    "And then answer question based on that data. If plots are needed the system should be able to write the python code and show the visulisation"
   ]
  },
  {
   "cell_type": "markdown",
   "metadata": {},
   "source": [
    "\n",
    "### Test2SQL Q&A Bot on Namma Yatri Data\n",
    "###"
   ]
  },
  {
   "cell_type": "markdown",
   "metadata": {},
   "source": [
    "Step 1: The Bot should fetch the data from Namma Yatri for analysis and store it as JSON file\n"
   ]
  },
  {
   "cell_type": "code",
   "execution_count": 41,
   "metadata": {},
   "outputs": [],
   "source": [
    "import pandas as pd\n",
    "import os\n",
    "import numpy as np\n",
    "import plotly.express as px\n",
    "OPEN_API_KEY=''\n",
    "import openai\n",
    "\n",
    "# Set your API key\n",
    "openai.api_key = OPEN_API_KEY"
   ]
  },
  {
   "cell_type": "code",
   "execution_count": 186,
   "metadata": {},
   "outputs": [],
   "source": [
    "fetch_data_msg='''\n",
    "You are a Data Enginner who  can fetch data from Namma Yatri Open Data and can generate the code to retrieve and save that data as a dataframe.\n",
    "the output dataframe you will add column Current Date which will be YYYYmmDDHHMM .The current date shoulkd be same across all the files extracted =.\n",
    "The name of the files you save it : if you have fetched data from https://d11gklsvr97l1g.cloudfront.net/open/json-data/driver_eda_wards_new_key.json  on 2024 Nov 15, 14:06 hours you \n",
    "will save the file as driver_eda_wards_new_key. If the file already exists you will overwrite that file\n",
    "\n",
    "The urls from which you should fetch the data are:\n",
    "1. driver_eda_wards_new_key : https://d11gklsvr97l1g.cloudfront.net/open/json-data/driver_eda_wards_new_key.json\n",
    "2. funnel_cumulative_ward_new_key: https://d11gklsvr97l1g.cloudfront.net/open/json-data/funnel_cumulative_ward_new_key.json\n",
    "3.funnel_live_ward_new_key:https://d11gklsvr97l1g.cloudfront.net/open/json-data/funnel_live_ward_new_key.json\n",
    "4.trends_cumulative_ward_new_key: https://d11gklsvr97l1g.cloudfront.net/open/json-data/trends_cumulative_ward_new_key.json\n",
    "5. trends_live_ward_new_key : https://d11gklsvr97l1g.cloudfront.net/open/json-data/trends_live_ward_new_key.json\n",
    "\n",
    "Also, while creating the dataframe From ward_num, extract Ward_Number Column which is the number after b_ and add it as a column\n",
    "Read the file WARDS_ID_MAPPING.xlsx and rename column Ward No. with Ward_Number. Merge every dataframe scraped from Namma Yatri with the WARDS_ID_MAPPING Data on Ward_Number\n",
    "The output file should be a csv file and before merging ensure in both the files the Ward_Number is string.\n",
    "\n",
    "You will generate only the python code that can be executed. \n",
    "'''"
   ]
  },
  {
   "cell_type": "code",
   "execution_count": 108,
   "metadata": {},
   "outputs": [],
   "source": [
    "response_format={\n",
    "    \"type\": \"json_schema\",\n",
    "    \"json_schema\": {\n",
    "      \"name\": \"python_code\",\n",
    "      \"strict\": True,\n",
    "      \"schema\": {\n",
    "        \"type\": \"object\",\n",
    "        \"properties\": {\n",
    "          \"code\": {\n",
    "            \"type\": \"string\",\n",
    "            \"description\": \"The Python code to be executed.\"\n",
    "          },\n",
    "          \"description\": {\n",
    "            \"type\": \"string\",\n",
    "            \"description\": \"A description of what the Python code does.\"\n",
    "          },\n",
    "          \"function_name\": {\n",
    "            \"type\": \"string\",\n",
    "            \"description\": \"The name of the function defined in the Python code.\"\n",
    "          },\n",
    "          \"parameters\": {\n",
    "            \"type\": \"array\",\n",
    "            \"description\": \"A list of parameters accepted by the function.\",\n",
    "            \"items\": {\n",
    "              \"type\": \"string\",\n",
    "              \"description\": \"The name of a parameter.\"\n",
    "            }\n",
    "          },\n",
    "          \"return_type\": {\n",
    "            \"type\": \"string\",\n",
    "            \"description\": \"The type of value returned by the function.\"\n",
    "          }\n",
    "        },\n",
    "        \"required\": [\n",
    "          \"code\",\n",
    "          \"description\",\n",
    "          \"function_name\",\n",
    "          \"parameters\",\n",
    "          \"return_type\"\n",
    "        ],\n",
    "        \"additionalProperties\": False\n",
    "      }\n",
    "    }\n",
    "  }"
   ]
  },
  {
   "cell_type": "code",
   "execution_count": 109,
   "metadata": {},
   "outputs": [],
   "source": [
    "def generate_completion(user_msg,system_msg, response_format):\n",
    "  messages=[\n",
    "      {\n",
    "        \"role\": \"system\",\n",
    "        \"content\": [\n",
    "          {\n",
    "            \"type\": \"text\",\n",
    "            \"text\": system_msg\n",
    "          }\n",
    "        ]\n",
    "      },{\n",
    "          \"role\": \"user\",\n",
    "        \"content\": [\n",
    "          {\n",
    "            \"type\": \"text\",\n",
    "            \"text\": user_msg\n",
    "          }]\n",
    "\n",
    "      }]\n",
    "  client = openai.OpenAI(api_key=OPEN_API_KEY)\n",
    "  response = client.chat.completions.create(model=\"gpt-4o-mini\",messages=messages,\n",
    "                                              temperature=1,max_tokens=4096,top_p=1,\n",
    "                                              frequency_penalty=0,presence_penalty=0,\n",
    "                                              response_format=response_format)\n",
    "  return response.choices[0].message.content"
   ]
  },
  {
   "cell_type": "code",
   "execution_count": 210,
   "metadata": {},
   "outputs": [],
   "source": [
    "import json\n",
    "import subprocess \n",
    "import sys\n",
    "\n",
    "def fetchData():\n",
    "    output=generate_completion(fetch_data_msg,\"You are an expert in Python and always import all necessary libraries in the code\",response_format)\n",
    "    code=json.loads(output)['code']\n",
    "    print(code)\n",
    "    result=subprocess.run([sys.executable, \"-c\", code], capture_output=True)\n",
    "    return result\n",
    "\n"
   ]
  },
  {
   "cell_type": "code",
   "execution_count": 211,
   "metadata": {},
   "outputs": [
    {
     "name": "stdout",
     "output_type": "stream",
     "text": [
      "import pandas as pd\n",
      "import requests\n",
      "import json\n",
      "from datetime import datetime\n",
      "\n",
      "# Function to fetch and save data as a dataframe\n",
      "\n",
      "def fetch_and_save_data():\n",
      "    urls = {\n",
      "        'driver_eda_wards_new_key': 'https://d11gklsvr97l1g.cloudfront.net/open/json-data/driver_eda_wards_new_key.json',\n",
      "        'funnel_cumulative_ward_new_key': 'https://d11gklsvr97l1g.cloudfront.net/open/json-data/funnel_cumulative_ward_new_key.json',\n",
      "        'funnel_live_ward_new_key': 'https://d11gklsvr97l1g.cloudfront.net/open/json-data/funnel_live_ward_new_key.json',\n",
      "        'trends_cumulative_ward_new_key': 'https://d11gklsvr97l1g.cloudfront.net/open/json-data/trends_cumulative_ward_new_key.json',\n",
      "        'trends_live_ward_new_key': 'https://d11gklsvr97l1g.cloudfront.net/open/json-data/trends_live_ward_new_key.json'\n",
      "    }\n",
      "    # Read the WARDS_ID_MAPPING.xlsx file\n",
      "    wards_mapping = pd.read_excel('WARDS_ID_MAPPING.xlsx')\n",
      "    wards_mapping.rename(columns={'Ward No.': 'Ward_Number'}, inplace=True)\n",
      "    wards_mapping['Ward_Number'] = wards_mapping['Ward_Number'].astype(str)\n",
      "\n",
      "    # Get current date\n",
      "    current_date = datetime.now().strftime('%Y%m%d%H%M')\n",
      "\n",
      "    for file_name, url in urls.items():\n",
      "        # Fetch data\n",
      "        response = requests.get(url)\n",
      "        data = response.json()\n",
      "        df = pd.json_normalize(data)\n",
      "\n",
      "        # Extract Ward_Number from ward_num\n",
      "        df['Ward_Number'] = df['ward_num'].str.extract(r'b_(\\d+)')[0]\n",
      "        df['Ward_Number'] = df['Ward_Number'].astype(str)\n",
      "\n",
      "        # Merge with the wards mapping\n",
      "        merged_df = pd.merge(df, wards_mapping, on='Ward_Number', how='left')\n",
      "\n",
      "        # Add Current Date column\n",
      "        merged_df['Current_Date'] = current_date\n",
      "\n",
      "        # Save to CSV, overwriting if it exists\n",
      "        merged_df.to_csv(f'{file_name}.csv', index=False)\n",
      "\n",
      "# Call the function to execute\n",
      "fetch_and_save_data()\n"
     ]
    }
   ],
   "source": [
    "result=fetchData()"
   ]
  },
  {
   "cell_type": "code",
   "execution_count": 243,
   "metadata": {},
   "outputs": [],
   "source": [
    "table_definition={\"funnel_live_ward_new_key.csv\":'''\n",
    "  \\nThis table contains information about aggregated trips details for a given Ward in Bangalore for the current day.\n",
    "  The schema is as below:\n",
    "                  \n",
    "    \\nward_num (VARCHAR):\\n\\nThe identifier for the ward (e.g., b_1, b_2, b_10). Drop off ward_num=w_0 from the dataset\n",
    "\n",
    "  \\nsrch_fr_e (INTEGER):\\n\\nNumber of searches made by users for fare estimates.\n",
    "  \\nsrch_which_got_e (INTEGER):\\n\\nNumber of searches that resulted in a fare estimate being provided.\\\n",
    "  \\n srch_fr_q (INTEGER):\\n\\nNumber of searches made by users for trip quotes.\n",
    "\n",
    "  \\nsrch_which_got_q (INTEGER):\\n\\nNumber of searches that resulted in a trip quote being provided.\n",
    "  \\nbooking (INTEGER):\\n\\nThe number of bookings made from the searches.\n",
    "  \\nongng_ride (FLOAT):\\n\\nNumber of ongoing rides at the time of data collection.\n",
    "  \\ndone_ride (INTEGER):\\n\\nNumber of completed rides.\n",
    "  \\ncancel_ride (INTEGER):\\n\\nNumber of rides that have been canceled.\n",
    "  \\navg_dist_pr_trip (FLOAT):\\n\\nThe average distance per trip.\n",
    "\n",
    "  \\navg_fare (FLOAT):\\n\\nThe average fare per ride.\\n\n",
    "  earning (INTEGER):\\n\\nTotal earnings (in currency) from trips.\n",
    "  \\ndist (FLOAT):\\n\\nTotal distance covered by drivers for the trips.\n",
    "  \\nsrch_to_e_rate (FLOAT):\\n\\nConversion rate from searches to fare estimate.\n",
    "  \\ne_to_q_srch_rate (FLOAT):\\n\\nConversion rate from fare estimate to trip quote search.\n",
    "  \\nq_accept_rate (FLOAT):\\n\\nThe rate at which quotes are accepted.\n",
    "  \\nq_to_bkng_rate (FLOAT):\\n\\nConversion rate from quotes to bookings.\n",
    "  \\nbkng_cancel_rate (FLOAT):\\n\\nCancellation rate of bookings.\n",
    "  \\ncnvr_rate (FLOAT):\\n\\nOverall conversion rate from searches to successful bookings.''',\n",
    "  \n",
    "  \n",
    "  \"driver_eda_wards_new_key.csv\":'''This table contains the data on driver activities across different wards.\n",
    "  \\n\\nward_num (VARCHAR): The ward identifier (e.g., \"b_1\", \"b_2\"). Drop off ward_num w_0 from the data\n",
    "  \\nactive (BOOLEAN): Whether the ward is active or not.\n",
    "  \\nactive_drvr (INTEGER): The number of online drivers in the ward.\n",
    "  \\ndrvr_notonride (INTEGER): The number of  online drivers not currently on a ride.\n",
    "  \\ndrvr_onride (INTEGER): The number of online drivers currently on a ride.\n",
    "  \\nZone (VARCHAR): The zone the ward belongs to\n",
    "  \\nAC Name (VARCHAR): The Assembly Consituency Name with ID.Multiple wards belong to an Assembly constituency\n",
    "  \\nWard No and Name (VARCHAR): The ward no-ward name\n",
    "  \\nAC_ID (INTEGER): Assembly Consituency ID\n",
    "  \\ASSEMBLY CONSTITUENCY (VARCHAR): Assembly Constituency Name.\n",
    "  \\nWard_Number (VARCHAR): Ward number without the b_ in ward_num\n",
    "  ''',\n",
    "\n",
    "  \"funnel_cumulative_ward_new_key.csv\":'''\n",
    "  \\nThis table contains information about aggregated trips details for a given Ward in Bangalore since 2022 .\n",
    "  The schema is as below:\n",
    "                  \n",
    "    \\n ward_num (VARCHAR):\\n\\nThe identifier for the ward (e.g., b_1, b_2, b_10). Drop off ward_num=w_0 from the dataset\n",
    "\n",
    "  \\nsrch_fr_e (INTEGER):\\n\\nNumber of searches made by users for fare estimates.\n",
    "  \\nsrch_which_got_e (INTEGER):\\n\\nNumber of searches that resulted in a fare estimate being provided.\\\n",
    "  \\n srch_fr_q (INTEGER):\\n\\nNumber of searches made by users for trip quotes.\n",
    "\n",
    "  \\nsrch_which_got_q (INTEGER):\\n\\nNumber of searches that resulted in a trip quote being provided.\n",
    "  \\nbooking (INTEGER):\\n\\nThe number of bookings made from the searches.\n",
    "  \\nongng_ride (FLOAT):\\n\\nNumber of ongoing rides at the time of data collection.\n",
    "  \\ndone_ride (INTEGER):\\n\\nNumber of completed rides.\n",
    "  \\ncancel_ride (INTEGER):\\n\\nNumber of rides that have been canceled.\n",
    "  \\navg_dist_pr_trip (FLOAT):\\n\\nThe average distance per trip.\n",
    "\n",
    "  \\navg_fare (FLOAT):\\n\\nThe average fare per ride.\\n\n",
    "  earning (INTEGER):\\n\\nTotal earnings (in currency) from trips.\n",
    "  \\ndist (FLOAT):\\n\\nTotal distance covered by drivers for the trips.\n",
    "  \\nsrch_to_e_rate (FLOAT):\\n\\nConversion rate from searches to fare estimate.\n",
    "  \\ne_to_q_srch_rate (FLOAT):\\n\\nConversion rate from fare estimate to trip quote search.\n",
    "  \\nq_accept_rate (FLOAT):\\n\\nThe rate at which quotes are accepted.\n",
    "  \\nq_to_bkng_rate (FLOAT):\\n\\nConversion rate from quotes to bookings.\n",
    "  \\nbkng_cancel_rate (FLOAT):\\n\\nCancellation rate of bookings.\n",
    "  \\ncnvr_rate (FLOAT):\\n\\nOverall conversion rate from searches to successful bookings.\n",
    "  \\nZone (VARCHAR): The zone the ward belongs to\n",
    "  \\nAC Name (VARCHAR): The Assembly Consituency Name with ID.Multiple wards belong to an Assembly constituency\n",
    "  \\nWard No and Name (VARCHAR): The ward no-ward name\n",
    "  \\nAC_ID (INTEGER): Assembly Consituency ID\n",
    "  \\ASSEMBLY CONSTITUENCY (VARCHAR): Assembly Constituency Name.\n",
    "  \\nWard_Number (VARCHAR): Ward number without the b_ in ward_num\n",
    "  \n",
    "  ''',\n",
    "\n",
    "}"
   ]
  },
  {
   "cell_type": "code",
   "execution_count": 246,
   "metadata": {},
   "outputs": [],
   "source": [
    "### Step 2: get the latest fetched data and answer the questions\n",
    "\n",
    "system_msg=f'''\n",
    "You are a datascientist and your job is to write python code that can execute without any error,\n",
    "to read from the correct csv files. While answering always use the data of the max of the Current Date \n",
    "data present. \n",
    "\n",
    "Any graph you generate should use plotly/plotly express so that it can be interactive. The csv file and the schema definitions are as below:\n",
    "\n",
    "{str(table_definition)}\n",
    "\n",
    "Ignore Rows where Ward No and Name is Null \n",
    "\n",
    "Also, note if needed to merge table to answer a question then merge the tables on column \"Ward No and Name\" & \"AC Name\" - consider this to be the key column for all tables\n",
    "\n",
    "When the user asks information based on WARD NAME then do a like match with rows that contain the WARD NAME and retrieve relevant information. \n",
    "\n",
    "The user may not enter the right name always - for example, if I search with Sanjay Nagar or Sanjaya Nagara or Sanjay Nagar the information related to the closest match  is to be retrieved.\n",
    "\n",
    "When giving ward details always give the Ward No and Name.\n",
    "\n",
    "In case the output is not a graph - print the response to the standard output\n",
    "'''"
   ]
  },
  {
   "cell_type": "code",
   "execution_count": 248,
   "metadata": {},
   "outputs": [
    {
     "name": "stdout",
     "output_type": "stream",
     "text": [
      "Driver Earnings in Shantala: 450242\n",
      "Number of online drivers in Shantala: 540\n"
     ]
    }
   ],
   "source": [
    "import json\n",
    "output=generate_completion(\"What is the Driver Earnings  and how many online drivers are there in Shantala today\",system_msg,response_format)\n",
    "code=json.loads(output)['code']\n",
    "exec(code)"
   ]
  },
  {
   "cell_type": "code",
   "execution_count": 249,
   "metadata": {},
   "outputs": [
    {
     "name": "stdout",
     "output_type": "stream",
     "text": [
      "import pandas as pd\n",
      "import plotly.express as px\n",
      "\n",
      "# Load the CSV files\n",
      "funnel_live_ward_df = pd.read_csv('funnel_live_ward_new_key.csv')\n",
      "driver_eda_wards_df = pd.read_csv('driver_eda_wards_new_key.csv')\n",
      "\n",
      "# Filter relevant data for matching ward names\n",
      "ward_name = 'Shantala'\n",
      "filtered_driver_data = driver_eda_wards_df[driver_eda_wards_df['Ward No and Name'].str.contains(ward_name, case=False, na=False)]\n",
      "filtered_funnel_data = funnel_live_ward_df[funnel_live_ward_df['Ward No and Name'].str.contains(ward_name, case=False, na=False)]\n",
      "\n",
      "# Merge dataframes on 'Ward No and Name' & 'AC Name'\n",
      "merged_data = pd.merge(filtered_driver_data, filtered_funnel_data, on=['Ward No and Name', 'AC Name'])\n",
      "\n",
      "# Get Driver Earnings and Active Drivers\n",
      "earnings = merged_data['earning'].sum()\n",
      "active_drivers = merged_data['active_drvr'].sum()\n",
      "\n",
      "# Print the result\n",
      "print(f'Driver Earnings in {ward_name}: {earnings}')\n",
      "print(f'Number of online drivers in {ward_name}: {active_drivers}')\n"
     ]
    }
   ],
   "source": [
    "print(code)"
   ]
  },
  {
   "cell_type": "code",
   "execution_count": 250,
   "metadata": {},
   "outputs": [
    {
     "name": "stdout",
     "output_type": "stream",
     "text": [
      "Ward Name: 181-Shantala Nagar, Earnings: 450242\n"
     ]
    }
   ],
   "source": [
    "import json\n",
    "output=generate_completion(\"Which is the Ward Name where driver earnings are more today?\",system_msg,response_format)\n",
    "code=json.loads(output)['code']\n",
    "exec(code)"
   ]
  },
  {
   "cell_type": "code",
   "execution_count": 251,
   "metadata": {},
   "outputs": [
    {
     "name": "stdout",
     "output_type": "stream",
     "text": [
      "      Ward No and Name  avg_fare\n",
      "15        112-Varthuru  230.9005\n",
      "16    113-Munnekollala  209.8508\n",
      "143  228-Naganathapura  208.4484\n",
      "199           6-Kogilu  204.3743\n",
      "17    114-Marathahalli  202.7754\n"
     ]
    }
   ],
   "source": [
    "import json\n",
    "output=generate_completion(\"Top 5 Wards which has highest average fare per ride as table today\",system_msg,response_format)\n",
    "code=json.loads(output)['code']\n",
    "exec(code)"
   ]
  },
  {
   "cell_type": "code",
   "execution_count": 252,
   "metadata": {},
   "outputs": [
    {
     "data": {
      "application/vnd.plotly.v1+json": {
       "config": {
        "plotlyServerURL": "https://plot.ly"
       },
       "data": [
        {
         "alignmentgroup": "True",
         "hovertemplate": "Ward Name=%{x}<br>Cancellation Rate=%{marker.color}<extra></extra>",
         "legendgroup": "",
         "marker": {
          "color": [
           0.647257363968435,
           0.584317874566508,
           0.522501103827735,
           0.5152042223954897,
           0.4840225833261686,
           0.4828702647830889,
           0.4822849310170148,
           0.46893910443109593,
           0.46439036174623216,
           0.45925874027884817
          ],
          "coloraxis": "coloraxis",
          "pattern": {
           "shape": ""
          }
         },
         "name": "",
         "offsetgroup": "",
         "orientation": "v",
         "showlegend": false,
         "text": [
          0.647257363968435,
          0.584317874566508,
          0.522501103827735,
          0.5152042223954897,
          0.4840225833261686,
          0.4828702647830889,
          0.4822849310170148,
          0.46893910443109593,
          0.46439036174623216,
          0.45925874027884817
         ],
         "textposition": "auto",
         "type": "bar",
         "x": [
          "138-Chickpete",
          "77-Devara Jeevanahalli",
          "169-Devaraj Urs Nagar",
          "137-Cottonpete",
          "160-Bapuji Nagar",
          "172-Dharmaraya Swamy Temple Ward",
          "168-Padarayanapura",
          "129-Sampangiram Nagar",
          "194-Gurappanapalya",
          "167-Jagajivanaram Nagar"
         ],
         "xaxis": "x",
         "y": [
          0.647257363968435,
          0.584317874566508,
          0.522501103827735,
          0.5152042223954897,
          0.4840225833261686,
          0.4828702647830889,
          0.4822849310170148,
          0.46893910443109593,
          0.46439036174623216,
          0.45925874027884817
         ],
         "yaxis": "y"
        }
       ],
       "layout": {
        "barmode": "relative",
        "coloraxis": {
         "colorbar": {
          "title": {
           "text": "Cancellation Rate"
          }
         },
         "colorscale": [
          [
           0,
           "#0d0887"
          ],
          [
           0.1111111111111111,
           "#46039f"
          ],
          [
           0.2222222222222222,
           "#7201a8"
          ],
          [
           0.3333333333333333,
           "#9c179e"
          ],
          [
           0.4444444444444444,
           "#bd3786"
          ],
          [
           0.5555555555555556,
           "#d8576b"
          ],
          [
           0.6666666666666666,
           "#ed7953"
          ],
          [
           0.7777777777777778,
           "#fb9f3a"
          ],
          [
           0.8888888888888888,
           "#fdca26"
          ],
          [
           1,
           "#f0f921"
          ]
         ]
        },
        "legend": {
         "tracegroupgap": 0
        },
        "template": {
         "data": {
          "bar": [
           {
            "error_x": {
             "color": "#2a3f5f"
            },
            "error_y": {
             "color": "#2a3f5f"
            },
            "marker": {
             "line": {
              "color": "#E5ECF6",
              "width": 0.5
             },
             "pattern": {
              "fillmode": "overlay",
              "size": 10,
              "solidity": 0.2
             }
            },
            "type": "bar"
           }
          ],
          "barpolar": [
           {
            "marker": {
             "line": {
              "color": "#E5ECF6",
              "width": 0.5
             },
             "pattern": {
              "fillmode": "overlay",
              "size": 10,
              "solidity": 0.2
             }
            },
            "type": "barpolar"
           }
          ],
          "carpet": [
           {
            "aaxis": {
             "endlinecolor": "#2a3f5f",
             "gridcolor": "white",
             "linecolor": "white",
             "minorgridcolor": "white",
             "startlinecolor": "#2a3f5f"
            },
            "baxis": {
             "endlinecolor": "#2a3f5f",
             "gridcolor": "white",
             "linecolor": "white",
             "minorgridcolor": "white",
             "startlinecolor": "#2a3f5f"
            },
            "type": "carpet"
           }
          ],
          "choropleth": [
           {
            "colorbar": {
             "outlinewidth": 0,
             "ticks": ""
            },
            "type": "choropleth"
           }
          ],
          "contour": [
           {
            "colorbar": {
             "outlinewidth": 0,
             "ticks": ""
            },
            "colorscale": [
             [
              0,
              "#0d0887"
             ],
             [
              0.1111111111111111,
              "#46039f"
             ],
             [
              0.2222222222222222,
              "#7201a8"
             ],
             [
              0.3333333333333333,
              "#9c179e"
             ],
             [
              0.4444444444444444,
              "#bd3786"
             ],
             [
              0.5555555555555556,
              "#d8576b"
             ],
             [
              0.6666666666666666,
              "#ed7953"
             ],
             [
              0.7777777777777778,
              "#fb9f3a"
             ],
             [
              0.8888888888888888,
              "#fdca26"
             ],
             [
              1,
              "#f0f921"
             ]
            ],
            "type": "contour"
           }
          ],
          "contourcarpet": [
           {
            "colorbar": {
             "outlinewidth": 0,
             "ticks": ""
            },
            "type": "contourcarpet"
           }
          ],
          "heatmap": [
           {
            "colorbar": {
             "outlinewidth": 0,
             "ticks": ""
            },
            "colorscale": [
             [
              0,
              "#0d0887"
             ],
             [
              0.1111111111111111,
              "#46039f"
             ],
             [
              0.2222222222222222,
              "#7201a8"
             ],
             [
              0.3333333333333333,
              "#9c179e"
             ],
             [
              0.4444444444444444,
              "#bd3786"
             ],
             [
              0.5555555555555556,
              "#d8576b"
             ],
             [
              0.6666666666666666,
              "#ed7953"
             ],
             [
              0.7777777777777778,
              "#fb9f3a"
             ],
             [
              0.8888888888888888,
              "#fdca26"
             ],
             [
              1,
              "#f0f921"
             ]
            ],
            "type": "heatmap"
           }
          ],
          "heatmapgl": [
           {
            "colorbar": {
             "outlinewidth": 0,
             "ticks": ""
            },
            "colorscale": [
             [
              0,
              "#0d0887"
             ],
             [
              0.1111111111111111,
              "#46039f"
             ],
             [
              0.2222222222222222,
              "#7201a8"
             ],
             [
              0.3333333333333333,
              "#9c179e"
             ],
             [
              0.4444444444444444,
              "#bd3786"
             ],
             [
              0.5555555555555556,
              "#d8576b"
             ],
             [
              0.6666666666666666,
              "#ed7953"
             ],
             [
              0.7777777777777778,
              "#fb9f3a"
             ],
             [
              0.8888888888888888,
              "#fdca26"
             ],
             [
              1,
              "#f0f921"
             ]
            ],
            "type": "heatmapgl"
           }
          ],
          "histogram": [
           {
            "marker": {
             "pattern": {
              "fillmode": "overlay",
              "size": 10,
              "solidity": 0.2
             }
            },
            "type": "histogram"
           }
          ],
          "histogram2d": [
           {
            "colorbar": {
             "outlinewidth": 0,
             "ticks": ""
            },
            "colorscale": [
             [
              0,
              "#0d0887"
             ],
             [
              0.1111111111111111,
              "#46039f"
             ],
             [
              0.2222222222222222,
              "#7201a8"
             ],
             [
              0.3333333333333333,
              "#9c179e"
             ],
             [
              0.4444444444444444,
              "#bd3786"
             ],
             [
              0.5555555555555556,
              "#d8576b"
             ],
             [
              0.6666666666666666,
              "#ed7953"
             ],
             [
              0.7777777777777778,
              "#fb9f3a"
             ],
             [
              0.8888888888888888,
              "#fdca26"
             ],
             [
              1,
              "#f0f921"
             ]
            ],
            "type": "histogram2d"
           }
          ],
          "histogram2dcontour": [
           {
            "colorbar": {
             "outlinewidth": 0,
             "ticks": ""
            },
            "colorscale": [
             [
              0,
              "#0d0887"
             ],
             [
              0.1111111111111111,
              "#46039f"
             ],
             [
              0.2222222222222222,
              "#7201a8"
             ],
             [
              0.3333333333333333,
              "#9c179e"
             ],
             [
              0.4444444444444444,
              "#bd3786"
             ],
             [
              0.5555555555555556,
              "#d8576b"
             ],
             [
              0.6666666666666666,
              "#ed7953"
             ],
             [
              0.7777777777777778,
              "#fb9f3a"
             ],
             [
              0.8888888888888888,
              "#fdca26"
             ],
             [
              1,
              "#f0f921"
             ]
            ],
            "type": "histogram2dcontour"
           }
          ],
          "mesh3d": [
           {
            "colorbar": {
             "outlinewidth": 0,
             "ticks": ""
            },
            "type": "mesh3d"
           }
          ],
          "parcoords": [
           {
            "line": {
             "colorbar": {
              "outlinewidth": 0,
              "ticks": ""
             }
            },
            "type": "parcoords"
           }
          ],
          "pie": [
           {
            "automargin": true,
            "type": "pie"
           }
          ],
          "scatter": [
           {
            "fillpattern": {
             "fillmode": "overlay",
             "size": 10,
             "solidity": 0.2
            },
            "type": "scatter"
           }
          ],
          "scatter3d": [
           {
            "line": {
             "colorbar": {
              "outlinewidth": 0,
              "ticks": ""
             }
            },
            "marker": {
             "colorbar": {
              "outlinewidth": 0,
              "ticks": ""
             }
            },
            "type": "scatter3d"
           }
          ],
          "scattercarpet": [
           {
            "marker": {
             "colorbar": {
              "outlinewidth": 0,
              "ticks": ""
             }
            },
            "type": "scattercarpet"
           }
          ],
          "scattergeo": [
           {
            "marker": {
             "colorbar": {
              "outlinewidth": 0,
              "ticks": ""
             }
            },
            "type": "scattergeo"
           }
          ],
          "scattergl": [
           {
            "marker": {
             "colorbar": {
              "outlinewidth": 0,
              "ticks": ""
             }
            },
            "type": "scattergl"
           }
          ],
          "scattermapbox": [
           {
            "marker": {
             "colorbar": {
              "outlinewidth": 0,
              "ticks": ""
             }
            },
            "type": "scattermapbox"
           }
          ],
          "scatterpolar": [
           {
            "marker": {
             "colorbar": {
              "outlinewidth": 0,
              "ticks": ""
             }
            },
            "type": "scatterpolar"
           }
          ],
          "scatterpolargl": [
           {
            "marker": {
             "colorbar": {
              "outlinewidth": 0,
              "ticks": ""
             }
            },
            "type": "scatterpolargl"
           }
          ],
          "scatterternary": [
           {
            "marker": {
             "colorbar": {
              "outlinewidth": 0,
              "ticks": ""
             }
            },
            "type": "scatterternary"
           }
          ],
          "surface": [
           {
            "colorbar": {
             "outlinewidth": 0,
             "ticks": ""
            },
            "colorscale": [
             [
              0,
              "#0d0887"
             ],
             [
              0.1111111111111111,
              "#46039f"
             ],
             [
              0.2222222222222222,
              "#7201a8"
             ],
             [
              0.3333333333333333,
              "#9c179e"
             ],
             [
              0.4444444444444444,
              "#bd3786"
             ],
             [
              0.5555555555555556,
              "#d8576b"
             ],
             [
              0.6666666666666666,
              "#ed7953"
             ],
             [
              0.7777777777777778,
              "#fb9f3a"
             ],
             [
              0.8888888888888888,
              "#fdca26"
             ],
             [
              1,
              "#f0f921"
             ]
            ],
            "type": "surface"
           }
          ],
          "table": [
           {
            "cells": {
             "fill": {
              "color": "#EBF0F8"
             },
             "line": {
              "color": "white"
             }
            },
            "header": {
             "fill": {
              "color": "#C8D4E3"
             },
             "line": {
              "color": "white"
             }
            },
            "type": "table"
           }
          ]
         },
         "layout": {
          "annotationdefaults": {
           "arrowcolor": "#2a3f5f",
           "arrowhead": 0,
           "arrowwidth": 1
          },
          "autotypenumbers": "strict",
          "coloraxis": {
           "colorbar": {
            "outlinewidth": 0,
            "ticks": ""
           }
          },
          "colorscale": {
           "diverging": [
            [
             0,
             "#8e0152"
            ],
            [
             0.1,
             "#c51b7d"
            ],
            [
             0.2,
             "#de77ae"
            ],
            [
             0.3,
             "#f1b6da"
            ],
            [
             0.4,
             "#fde0ef"
            ],
            [
             0.5,
             "#f7f7f7"
            ],
            [
             0.6,
             "#e6f5d0"
            ],
            [
             0.7,
             "#b8e186"
            ],
            [
             0.8,
             "#7fbc41"
            ],
            [
             0.9,
             "#4d9221"
            ],
            [
             1,
             "#276419"
            ]
           ],
           "sequential": [
            [
             0,
             "#0d0887"
            ],
            [
             0.1111111111111111,
             "#46039f"
            ],
            [
             0.2222222222222222,
             "#7201a8"
            ],
            [
             0.3333333333333333,
             "#9c179e"
            ],
            [
             0.4444444444444444,
             "#bd3786"
            ],
            [
             0.5555555555555556,
             "#d8576b"
            ],
            [
             0.6666666666666666,
             "#ed7953"
            ],
            [
             0.7777777777777778,
             "#fb9f3a"
            ],
            [
             0.8888888888888888,
             "#fdca26"
            ],
            [
             1,
             "#f0f921"
            ]
           ],
           "sequentialminus": [
            [
             0,
             "#0d0887"
            ],
            [
             0.1111111111111111,
             "#46039f"
            ],
            [
             0.2222222222222222,
             "#7201a8"
            ],
            [
             0.3333333333333333,
             "#9c179e"
            ],
            [
             0.4444444444444444,
             "#bd3786"
            ],
            [
             0.5555555555555556,
             "#d8576b"
            ],
            [
             0.6666666666666666,
             "#ed7953"
            ],
            [
             0.7777777777777778,
             "#fb9f3a"
            ],
            [
             0.8888888888888888,
             "#fdca26"
            ],
            [
             1,
             "#f0f921"
            ]
           ]
          },
          "colorway": [
           "#636efa",
           "#EF553B",
           "#00cc96",
           "#ab63fa",
           "#FFA15A",
           "#19d3f3",
           "#FF6692",
           "#B6E880",
           "#FF97FF",
           "#FECB52"
          ],
          "font": {
           "color": "#2a3f5f"
          },
          "geo": {
           "bgcolor": "white",
           "lakecolor": "white",
           "landcolor": "#E5ECF6",
           "showlakes": true,
           "showland": true,
           "subunitcolor": "white"
          },
          "hoverlabel": {
           "align": "left"
          },
          "hovermode": "closest",
          "mapbox": {
           "style": "light"
          },
          "paper_bgcolor": "white",
          "plot_bgcolor": "#E5ECF6",
          "polar": {
           "angularaxis": {
            "gridcolor": "white",
            "linecolor": "white",
            "ticks": ""
           },
           "bgcolor": "#E5ECF6",
           "radialaxis": {
            "gridcolor": "white",
            "linecolor": "white",
            "ticks": ""
           }
          },
          "scene": {
           "xaxis": {
            "backgroundcolor": "#E5ECF6",
            "gridcolor": "white",
            "gridwidth": 2,
            "linecolor": "white",
            "showbackground": true,
            "ticks": "",
            "zerolinecolor": "white"
           },
           "yaxis": {
            "backgroundcolor": "#E5ECF6",
            "gridcolor": "white",
            "gridwidth": 2,
            "linecolor": "white",
            "showbackground": true,
            "ticks": "",
            "zerolinecolor": "white"
           },
           "zaxis": {
            "backgroundcolor": "#E5ECF6",
            "gridcolor": "white",
            "gridwidth": 2,
            "linecolor": "white",
            "showbackground": true,
            "ticks": "",
            "zerolinecolor": "white"
           }
          },
          "shapedefaults": {
           "line": {
            "color": "#2a3f5f"
           }
          },
          "ternary": {
           "aaxis": {
            "gridcolor": "white",
            "linecolor": "white",
            "ticks": ""
           },
           "baxis": {
            "gridcolor": "white",
            "linecolor": "white",
            "ticks": ""
           },
           "bgcolor": "#E5ECF6",
           "caxis": {
            "gridcolor": "white",
            "linecolor": "white",
            "ticks": ""
           }
          },
          "title": {
           "x": 0.05
          },
          "xaxis": {
           "automargin": true,
           "gridcolor": "white",
           "linecolor": "white",
           "ticks": "",
           "title": {
            "standoff": 15
           },
           "zerolinecolor": "white",
           "zerolinewidth": 2
          },
          "yaxis": {
           "automargin": true,
           "gridcolor": "white",
           "linecolor": "white",
           "ticks": "",
           "title": {
            "standoff": 15
           },
           "zerolinecolor": "white",
           "zerolinewidth": 2
          }
         }
        },
        "title": {
         "text": "Top 10 Wards with Highest Cancellation Rate (Cumulative)"
        },
        "xaxis": {
         "anchor": "y",
         "domain": [
          0,
          1
         ],
         "title": {
          "text": "Ward Name"
         }
        },
        "yaxis": {
         "anchor": "x",
         "domain": [
          0,
          1
         ],
         "title": {
          "text": "Cancellation Rate"
         }
        }
       }
      }
     },
     "metadata": {},
     "output_type": "display_data"
    }
   ],
   "source": [
    "import json\n",
    "output=generate_completion(\"Top 10 Wards which has highest cancellation rate cumulative as a bar graph\",system_msg,response_format)\n",
    "code=json.loads(output)['code']\n",
    "exec(code)"
   ]
  },
  {
   "cell_type": "code",
   "execution_count": 253,
   "metadata": {},
   "outputs": [
    {
     "data": {
      "application/vnd.plotly.v1+json": {
       "config": {
        "plotlyServerURL": "https://plot.ly"
       },
       "data": [
        {
         "alignmentgroup": "True",
         "hovertemplate": "Ward Name=%{x}<br>Total Searches for Quotes=%{y}<extra></extra>",
         "legendgroup": "",
         "marker": {
          "color": "#636efa",
          "pattern": {
           "shape": ""
          }
         },
         "name": "",
         "offsetgroup": "",
         "orientation": "v",
         "showlegend": false,
         "textposition": "auto",
         "type": "bar",
         "x": [
          "70-Hebbala",
          "67-Sanjaya Nagar",
          "66-Radhakrishna Temple Ward",
          "72-Ganga Nagar",
          "73- Jayachamarajendra Nagar",
          "68-Vishwanath Nagenahalli",
          "69-Manorayanapalya",
          "71-Chamundi Nagara"
         ],
         "xaxis": "x",
         "y": [
          547623,
          546319,
          536750,
          490301,
          450096,
          409181,
          366398,
          314971
         ],
         "yaxis": "y"
        }
       ],
       "layout": {
        "barmode": "relative",
        "legend": {
         "tracegroupgap": 0
        },
        "template": {
         "data": {
          "bar": [
           {
            "error_x": {
             "color": "#2a3f5f"
            },
            "error_y": {
             "color": "#2a3f5f"
            },
            "marker": {
             "line": {
              "color": "#E5ECF6",
              "width": 0.5
             },
             "pattern": {
              "fillmode": "overlay",
              "size": 10,
              "solidity": 0.2
             }
            },
            "type": "bar"
           }
          ],
          "barpolar": [
           {
            "marker": {
             "line": {
              "color": "#E5ECF6",
              "width": 0.5
             },
             "pattern": {
              "fillmode": "overlay",
              "size": 10,
              "solidity": 0.2
             }
            },
            "type": "barpolar"
           }
          ],
          "carpet": [
           {
            "aaxis": {
             "endlinecolor": "#2a3f5f",
             "gridcolor": "white",
             "linecolor": "white",
             "minorgridcolor": "white",
             "startlinecolor": "#2a3f5f"
            },
            "baxis": {
             "endlinecolor": "#2a3f5f",
             "gridcolor": "white",
             "linecolor": "white",
             "minorgridcolor": "white",
             "startlinecolor": "#2a3f5f"
            },
            "type": "carpet"
           }
          ],
          "choropleth": [
           {
            "colorbar": {
             "outlinewidth": 0,
             "ticks": ""
            },
            "type": "choropleth"
           }
          ],
          "contour": [
           {
            "colorbar": {
             "outlinewidth": 0,
             "ticks": ""
            },
            "colorscale": [
             [
              0,
              "#0d0887"
             ],
             [
              0.1111111111111111,
              "#46039f"
             ],
             [
              0.2222222222222222,
              "#7201a8"
             ],
             [
              0.3333333333333333,
              "#9c179e"
             ],
             [
              0.4444444444444444,
              "#bd3786"
             ],
             [
              0.5555555555555556,
              "#d8576b"
             ],
             [
              0.6666666666666666,
              "#ed7953"
             ],
             [
              0.7777777777777778,
              "#fb9f3a"
             ],
             [
              0.8888888888888888,
              "#fdca26"
             ],
             [
              1,
              "#f0f921"
             ]
            ],
            "type": "contour"
           }
          ],
          "contourcarpet": [
           {
            "colorbar": {
             "outlinewidth": 0,
             "ticks": ""
            },
            "type": "contourcarpet"
           }
          ],
          "heatmap": [
           {
            "colorbar": {
             "outlinewidth": 0,
             "ticks": ""
            },
            "colorscale": [
             [
              0,
              "#0d0887"
             ],
             [
              0.1111111111111111,
              "#46039f"
             ],
             [
              0.2222222222222222,
              "#7201a8"
             ],
             [
              0.3333333333333333,
              "#9c179e"
             ],
             [
              0.4444444444444444,
              "#bd3786"
             ],
             [
              0.5555555555555556,
              "#d8576b"
             ],
             [
              0.6666666666666666,
              "#ed7953"
             ],
             [
              0.7777777777777778,
              "#fb9f3a"
             ],
             [
              0.8888888888888888,
              "#fdca26"
             ],
             [
              1,
              "#f0f921"
             ]
            ],
            "type": "heatmap"
           }
          ],
          "heatmapgl": [
           {
            "colorbar": {
             "outlinewidth": 0,
             "ticks": ""
            },
            "colorscale": [
             [
              0,
              "#0d0887"
             ],
             [
              0.1111111111111111,
              "#46039f"
             ],
             [
              0.2222222222222222,
              "#7201a8"
             ],
             [
              0.3333333333333333,
              "#9c179e"
             ],
             [
              0.4444444444444444,
              "#bd3786"
             ],
             [
              0.5555555555555556,
              "#d8576b"
             ],
             [
              0.6666666666666666,
              "#ed7953"
             ],
             [
              0.7777777777777778,
              "#fb9f3a"
             ],
             [
              0.8888888888888888,
              "#fdca26"
             ],
             [
              1,
              "#f0f921"
             ]
            ],
            "type": "heatmapgl"
           }
          ],
          "histogram": [
           {
            "marker": {
             "pattern": {
              "fillmode": "overlay",
              "size": 10,
              "solidity": 0.2
             }
            },
            "type": "histogram"
           }
          ],
          "histogram2d": [
           {
            "colorbar": {
             "outlinewidth": 0,
             "ticks": ""
            },
            "colorscale": [
             [
              0,
              "#0d0887"
             ],
             [
              0.1111111111111111,
              "#46039f"
             ],
             [
              0.2222222222222222,
              "#7201a8"
             ],
             [
              0.3333333333333333,
              "#9c179e"
             ],
             [
              0.4444444444444444,
              "#bd3786"
             ],
             [
              0.5555555555555556,
              "#d8576b"
             ],
             [
              0.6666666666666666,
              "#ed7953"
             ],
             [
              0.7777777777777778,
              "#fb9f3a"
             ],
             [
              0.8888888888888888,
              "#fdca26"
             ],
             [
              1,
              "#f0f921"
             ]
            ],
            "type": "histogram2d"
           }
          ],
          "histogram2dcontour": [
           {
            "colorbar": {
             "outlinewidth": 0,
             "ticks": ""
            },
            "colorscale": [
             [
              0,
              "#0d0887"
             ],
             [
              0.1111111111111111,
              "#46039f"
             ],
             [
              0.2222222222222222,
              "#7201a8"
             ],
             [
              0.3333333333333333,
              "#9c179e"
             ],
             [
              0.4444444444444444,
              "#bd3786"
             ],
             [
              0.5555555555555556,
              "#d8576b"
             ],
             [
              0.6666666666666666,
              "#ed7953"
             ],
             [
              0.7777777777777778,
              "#fb9f3a"
             ],
             [
              0.8888888888888888,
              "#fdca26"
             ],
             [
              1,
              "#f0f921"
             ]
            ],
            "type": "histogram2dcontour"
           }
          ],
          "mesh3d": [
           {
            "colorbar": {
             "outlinewidth": 0,
             "ticks": ""
            },
            "type": "mesh3d"
           }
          ],
          "parcoords": [
           {
            "line": {
             "colorbar": {
              "outlinewidth": 0,
              "ticks": ""
             }
            },
            "type": "parcoords"
           }
          ],
          "pie": [
           {
            "automargin": true,
            "type": "pie"
           }
          ],
          "scatter": [
           {
            "fillpattern": {
             "fillmode": "overlay",
             "size": 10,
             "solidity": 0.2
            },
            "type": "scatter"
           }
          ],
          "scatter3d": [
           {
            "line": {
             "colorbar": {
              "outlinewidth": 0,
              "ticks": ""
             }
            },
            "marker": {
             "colorbar": {
              "outlinewidth": 0,
              "ticks": ""
             }
            },
            "type": "scatter3d"
           }
          ],
          "scattercarpet": [
           {
            "marker": {
             "colorbar": {
              "outlinewidth": 0,
              "ticks": ""
             }
            },
            "type": "scattercarpet"
           }
          ],
          "scattergeo": [
           {
            "marker": {
             "colorbar": {
              "outlinewidth": 0,
              "ticks": ""
             }
            },
            "type": "scattergeo"
           }
          ],
          "scattergl": [
           {
            "marker": {
             "colorbar": {
              "outlinewidth": 0,
              "ticks": ""
             }
            },
            "type": "scattergl"
           }
          ],
          "scattermapbox": [
           {
            "marker": {
             "colorbar": {
              "outlinewidth": 0,
              "ticks": ""
             }
            },
            "type": "scattermapbox"
           }
          ],
          "scatterpolar": [
           {
            "marker": {
             "colorbar": {
              "outlinewidth": 0,
              "ticks": ""
             }
            },
            "type": "scatterpolar"
           }
          ],
          "scatterpolargl": [
           {
            "marker": {
             "colorbar": {
              "outlinewidth": 0,
              "ticks": ""
             }
            },
            "type": "scatterpolargl"
           }
          ],
          "scatterternary": [
           {
            "marker": {
             "colorbar": {
              "outlinewidth": 0,
              "ticks": ""
             }
            },
            "type": "scatterternary"
           }
          ],
          "surface": [
           {
            "colorbar": {
             "outlinewidth": 0,
             "ticks": ""
            },
            "colorscale": [
             [
              0,
              "#0d0887"
             ],
             [
              0.1111111111111111,
              "#46039f"
             ],
             [
              0.2222222222222222,
              "#7201a8"
             ],
             [
              0.3333333333333333,
              "#9c179e"
             ],
             [
              0.4444444444444444,
              "#bd3786"
             ],
             [
              0.5555555555555556,
              "#d8576b"
             ],
             [
              0.6666666666666666,
              "#ed7953"
             ],
             [
              0.7777777777777778,
              "#fb9f3a"
             ],
             [
              0.8888888888888888,
              "#fdca26"
             ],
             [
              1,
              "#f0f921"
             ]
            ],
            "type": "surface"
           }
          ],
          "table": [
           {
            "cells": {
             "fill": {
              "color": "#EBF0F8"
             },
             "line": {
              "color": "white"
             }
            },
            "header": {
             "fill": {
              "color": "#C8D4E3"
             },
             "line": {
              "color": "white"
             }
            },
            "type": "table"
           }
          ]
         },
         "layout": {
          "annotationdefaults": {
           "arrowcolor": "#2a3f5f",
           "arrowhead": 0,
           "arrowwidth": 1
          },
          "autotypenumbers": "strict",
          "coloraxis": {
           "colorbar": {
            "outlinewidth": 0,
            "ticks": ""
           }
          },
          "colorscale": {
           "diverging": [
            [
             0,
             "#8e0152"
            ],
            [
             0.1,
             "#c51b7d"
            ],
            [
             0.2,
             "#de77ae"
            ],
            [
             0.3,
             "#f1b6da"
            ],
            [
             0.4,
             "#fde0ef"
            ],
            [
             0.5,
             "#f7f7f7"
            ],
            [
             0.6,
             "#e6f5d0"
            ],
            [
             0.7,
             "#b8e186"
            ],
            [
             0.8,
             "#7fbc41"
            ],
            [
             0.9,
             "#4d9221"
            ],
            [
             1,
             "#276419"
            ]
           ],
           "sequential": [
            [
             0,
             "#0d0887"
            ],
            [
             0.1111111111111111,
             "#46039f"
            ],
            [
             0.2222222222222222,
             "#7201a8"
            ],
            [
             0.3333333333333333,
             "#9c179e"
            ],
            [
             0.4444444444444444,
             "#bd3786"
            ],
            [
             0.5555555555555556,
             "#d8576b"
            ],
            [
             0.6666666666666666,
             "#ed7953"
            ],
            [
             0.7777777777777778,
             "#fb9f3a"
            ],
            [
             0.8888888888888888,
             "#fdca26"
            ],
            [
             1,
             "#f0f921"
            ]
           ],
           "sequentialminus": [
            [
             0,
             "#0d0887"
            ],
            [
             0.1111111111111111,
             "#46039f"
            ],
            [
             0.2222222222222222,
             "#7201a8"
            ],
            [
             0.3333333333333333,
             "#9c179e"
            ],
            [
             0.4444444444444444,
             "#bd3786"
            ],
            [
             0.5555555555555556,
             "#d8576b"
            ],
            [
             0.6666666666666666,
             "#ed7953"
            ],
            [
             0.7777777777777778,
             "#fb9f3a"
            ],
            [
             0.8888888888888888,
             "#fdca26"
            ],
            [
             1,
             "#f0f921"
            ]
           ]
          },
          "colorway": [
           "#636efa",
           "#EF553B",
           "#00cc96",
           "#ab63fa",
           "#FFA15A",
           "#19d3f3",
           "#FF6692",
           "#B6E880",
           "#FF97FF",
           "#FECB52"
          ],
          "font": {
           "color": "#2a3f5f"
          },
          "geo": {
           "bgcolor": "white",
           "lakecolor": "white",
           "landcolor": "#E5ECF6",
           "showlakes": true,
           "showland": true,
           "subunitcolor": "white"
          },
          "hoverlabel": {
           "align": "left"
          },
          "hovermode": "closest",
          "mapbox": {
           "style": "light"
          },
          "paper_bgcolor": "white",
          "plot_bgcolor": "#E5ECF6",
          "polar": {
           "angularaxis": {
            "gridcolor": "white",
            "linecolor": "white",
            "ticks": ""
           },
           "bgcolor": "#E5ECF6",
           "radialaxis": {
            "gridcolor": "white",
            "linecolor": "white",
            "ticks": ""
           }
          },
          "scene": {
           "xaxis": {
            "backgroundcolor": "#E5ECF6",
            "gridcolor": "white",
            "gridwidth": 2,
            "linecolor": "white",
            "showbackground": true,
            "ticks": "",
            "zerolinecolor": "white"
           },
           "yaxis": {
            "backgroundcolor": "#E5ECF6",
            "gridcolor": "white",
            "gridwidth": 2,
            "linecolor": "white",
            "showbackground": true,
            "ticks": "",
            "zerolinecolor": "white"
           },
           "zaxis": {
            "backgroundcolor": "#E5ECF6",
            "gridcolor": "white",
            "gridwidth": 2,
            "linecolor": "white",
            "showbackground": true,
            "ticks": "",
            "zerolinecolor": "white"
           }
          },
          "shapedefaults": {
           "line": {
            "color": "#2a3f5f"
           }
          },
          "ternary": {
           "aaxis": {
            "gridcolor": "white",
            "linecolor": "white",
            "ticks": ""
           },
           "baxis": {
            "gridcolor": "white",
            "linecolor": "white",
            "ticks": ""
           },
           "bgcolor": "#E5ECF6",
           "caxis": {
            "gridcolor": "white",
            "linecolor": "white",
            "ticks": ""
           }
          },
          "title": {
           "x": 0.05
          },
          "xaxis": {
           "automargin": true,
           "gridcolor": "white",
           "linecolor": "white",
           "ticks": "",
           "title": {
            "standoff": 15
           },
           "zerolinecolor": "white",
           "zerolinewidth": 2
          },
          "yaxis": {
           "automargin": true,
           "gridcolor": "white",
           "linecolor": "white",
           "ticks": "",
           "title": {
            "standoff": 15
           },
           "zerolinecolor": "white",
           "zerolinewidth": 2
          }
         }
        },
        "title": {
         "text": "Total Searches for Quotes by Ward in Hebbal Assembly Constituency"
        },
        "xaxis": {
         "anchor": "y",
         "domain": [
          0,
          1
         ],
         "title": {
          "text": "Ward Name"
         }
        },
        "yaxis": {
         "anchor": "x",
         "domain": [
          0,
          1
         ],
         "title": {
          "text": "Total Searches for Quotes"
         }
        }
       }
      }
     },
     "metadata": {},
     "output_type": "display_data"
    }
   ],
   "source": [
    "output=generate_completion(\"Total Searches for Quotes by Ward Name in Hebbal Assembly Constituency sort in descending order of searches\",system_msg,response_format)\n",
    "code=json.loads(output)['code']\n",
    "exec(code)"
   ]
  },
  {
   "cell_type": "code",
   "execution_count": 254,
   "metadata": {},
   "outputs": [
    {
     "name": "stdout",
     "output_type": "stream",
     "text": [
      "import pandas as pd\n",
      "import plotly.express as px\n",
      "\n",
      "# Read the data from CSV files\n",
      "funnel_live = pd.read_csv('funnel_live_ward_new_key.csv')\n",
      "driver_eda = pd.read_csv('driver_eda_wards_new_key.csv')\n",
      "funnel_cumulative = pd.read_csv('funnel_cumulative_ward_new_key.csv')\n",
      "\n",
      "# Drop rows where 'Ward No and Name' is null\n",
      "funnel_live = funnel_live[funnel_live['Ward No and Name'].notnull()]\n",
      "driver_eda = driver_eda[driver_eda['Ward No and Name'].notnull()]\n",
      "funnel_cumulative = funnel_cumulative[funnel_cumulative['Ward No and Name'].notnull()]\n",
      "\n",
      "# Merging dataframes on 'Ward No and Name' & 'AC Name'\n",
      "merged_live = funnel_live.merge(driver_eda, on=['Ward No and Name', 'AC Name'], how='inner')\n",
      "merged_cumulative = funnel_cumulative.merge(driver_eda, on=['Ward No and Name', 'AC Name'], how='inner')\n",
      "\n",
      "# Filtering to only include records from Hebbal Assembly Constituency\n",
      "hebbal_data = merged_cumulative[merged_cumulative['AC Name'].str.contains('Hebbal', case=False)]\n",
      "\n",
      "# Sorting by the number of searches for quotes in descending order\n",
      "hebbal_sorted = hebbal_data[['Ward No and Name', 'srch_fr_q']].sort_values(by='srch_fr_q', ascending=False)\n",
      "\n",
      "# Plotting using Plotly Express\n",
      "fig = px.bar(hebbal_sorted, x='Ward No and Name', y='srch_fr_q', title='Total Searches for Quotes by Ward in Hebbal Assembly Constituency', labels={'srch_fr_q': 'Total Searches for Quotes', 'Ward No and Name': 'Ward Name'})\n",
      "fig.show()\n"
     ]
    }
   ],
   "source": [
    "print(code)"
   ]
  },
  {
   "cell_type": "code",
   "execution_count": null,
   "metadata": {},
   "outputs": [],
   "source": []
  }
 ],
 "metadata": {
  "kernelspec": {
   "display_name": "py310-whisper",
   "language": "python",
   "name": "python3"
  },
  "language_info": {
   "codemirror_mode": {
    "name": "ipython",
    "version": 3
   },
   "file_extension": ".py",
   "mimetype": "text/x-python",
   "name": "python",
   "nbconvert_exporter": "python",
   "pygments_lexer": "ipython3",
   "version": "3.10.14"
  }
 },
 "nbformat": 4,
 "nbformat_minor": 2
}
